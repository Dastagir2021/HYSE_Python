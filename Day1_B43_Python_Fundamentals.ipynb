{
 "cells": [
  {
   "cell_type": "code",
   "execution_count": 1,
   "metadata": {},
   "outputs": [
    {
     "ename": "SyntaxError",
     "evalue": "invalid syntax (<ipython-input-1-12408898fe40>, line 1)",
     "output_type": "error",
     "traceback": [
      "\u001b[1;36m  File \u001b[1;32m\"<ipython-input-1-12408898fe40>\"\u001b[1;36m, line \u001b[1;32m1\u001b[0m\n\u001b[1;33m    If you are joining new today pls follow the below instructions:\u001b[0m\n\u001b[1;37m       ^\u001b[0m\n\u001b[1;31mSyntaxError\u001b[0m\u001b[1;31m:\u001b[0m invalid syntax\n"
     ]
    }
   ],
   "source": [
    "If you are joining new today pls follow the below instructions:\n",
    "\n",
    "you have to complete the below two things;\n",
    "\n",
    "\n",
    "Task1: -----> do it right now.\n",
    "    \n",
    "Send me text at wtsap - 7075662132\n",
    "\n",
    "below details:\n",
    "    \n",
    "Full_name: MOHD DASTAGIR\n",
    "    \n",
    "EmailId_Id: mohammeddastagir1987@gmail.com    "
   ]
  },
  {
   "cell_type": "code",
   "execution_count": null,
   "metadata": {},
   "outputs": [],
   "source": [
    "codetraining01@gmail.com -----> Email ID"
   ]
  },
  {
   "cell_type": "code",
   "execution_count": null,
   "metadata": {},
   "outputs": [],
   "source": [
    "Task2: should be sent via EMAIL: -----> complete it after the class.\n",
    "        \n",
    "introduce yourself at codetraining01@gmail.com\n",
    "\n",
    "Name:  MOHD DASTAGIR\n",
    "    \n",
    "EmailId_Id: mohammeddastagir1987@gmail.com   \n",
    "    \n",
    "total years of Ex/Fresher -- 7 YRS\n",
    "\n",
    "Domain worked : (2 YRS -  TECHNICIAN APPRENTICE + IT COORDINATOR)\n",
    "                (5 YRS - ASSISTANT PROFESSOR -TEACHING )\n",
    "\n",
    "Motto of joining : To upgrade and enhance my knowledge in emerging technologies\n",
    "                   To teach upcoming young minds and make them to develop some applications for the society welfare\n",
    "                   To develop some applications from which I can earn and survive for my family because due to COVID - 19 teaching fields got too much affected."
   ]
  },
  {
   "cell_type": "code",
   "execution_count": null,
   "metadata": {},
   "outputs": [],
   "source": []
  },
  {
   "cell_type": "code",
   "execution_count": null,
   "metadata": {},
   "outputs": [],
   "source": []
  }
 ],
 "metadata": {
  "kernelspec": {
   "display_name": "Python 3",
   "language": "python",
   "name": "python3"
  },
  "language_info": {
   "codemirror_mode": {
    "name": "ipython",
    "version": 3
   },
   "file_extension": ".py",
   "mimetype": "text/x-python",
   "name": "python",
   "nbconvert_exporter": "python",
   "pygments_lexer": "ipython3",
   "version": "3.8.5"
  }
 },
 "nbformat": 4,
 "nbformat_minor": 4
}
