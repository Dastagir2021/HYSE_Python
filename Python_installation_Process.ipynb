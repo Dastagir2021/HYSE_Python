{
 "cells": [
  {
   "cell_type": "code",
   "execution_count": null,
   "metadata": {},
   "outputs": [],
   "source": [
    "a. www.anaconda.com\n",
    "\n",
    "b. www.gitbub.com\n",
    "\n",
    "laptop/desktop ---> 4gb of ram"
   ]
  },
  {
   "cell_type": "code",
   "execution_count": null,
   "metadata": {},
   "outputs": [],
   "source": [
    "a. www.Anaconda.com -----> python distribution version\n",
    "\n",
    "Steps to be followed.\n",
    "\n",
    "1.open the link\n",
    "\n",
    "2. select Getstarted option ----seen at the top right side on the website\n",
    "\n",
    "3. select the anaconda individual edition -----> dlick on --> download\n",
    "\n",
    "4. select python 3.8 version and click download (according to your os ---choose the download option)\n",
    "\n",
    "5. once it gets download , run it in your system ----> click ---next -->next -->next ---next - and then install\n",
    "\n",
    "6. shortcut icon will be created on the desktop as ---> Anaconda navigator --> from that launch jupyter notebook\n",
    "\n",
    "7. open CMD or terminal and type ....> jupyter notebook and press enter(alternative approach of opening)\n",
    "\n",
    "8. it will be opened in internet explorer or google chrome\n",
    "\n",
    "9. select new --> open python notebook ----> thats all."
   ]
  }
 ],
 "metadata": {
  "kernelspec": {
   "display_name": "Python 3",
   "language": "python",
   "name": "python3"
  },
  "language_info": {
   "codemirror_mode": {
    "name": "ipython",
    "version": 3
   },
   "file_extension": ".py",
   "mimetype": "text/x-python",
   "name": "python",
   "nbconvert_exporter": "python",
   "pygments_lexer": "ipython3",
   "version": "3.8.5"
  }
 },
 "nbformat": 4,
 "nbformat_minor": 4
}
